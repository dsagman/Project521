{
 "cells": [
  {
   "cell_type": "code",
   "execution_count": 102,
   "metadata": {},
   "outputs": [],
   "source": [
    "# probabalistic matrix multiply\n",
    "import numpy as np"
   ]
  },
  {
   "cell_type": "markdown",
   "metadata": {},
   "source": [
    "From https://arxiv.org/pdf/1712.08880.pdf\n",
    "\n",
    "$$ prob_{k} = \\frac{\\|A_{*k}\\|_{2} \\cdot \\|B_{k*}\\|_{2}}{\\sum_{k'=1}^{n} \\|A_{*k'}\\|_{2} \\cdot \\|B_{k'*}\\|_{2}} $$\n",
    "\n",
    "$$ C_{*t} = \\frac{1}{\\sqrt{c \\cdot prob_{i_t}}} A_{*i_t}$$\n",
    "$$ R_{t*} = \\frac{1}{\\sqrt{c \\cdot prob_{i_t}}} B_{i_t*}$$\n",
    "\n",
    "$$ CR = \\sum_{t=1}^{c} \\frac{1}{c \\cdot prob_{i_t}} A_{*i_t} B_{i_t*} = \n",
    " \\frac{1}{c} \\sum_{t=1}^{c} \\frac{1}{prob_{i_t}} A_{*i_t} B_{i_t*}$$"
   ]
  },
  {
   "cell_type": "code",
   "execution_count": 103,
   "metadata": {},
   "outputs": [],
   "source": [
    "np.random.seed(100)\n",
    "# A = m rows, n cols\n",
    "# B = n rows, p cols\n",
    "m, n, p = 50, 100, 80\n",
    "A = np.random.rand(m,n)\n",
    "B = np.random.rand(n,p)"
   ]
  },
  {
   "cell_type": "code",
   "execution_count": 104,
   "metadata": {},
   "outputs": [],
   "source": [
    "def norm(X, axis=0):\n",
    "    return np.sqrt(np.sum(X ** 2, axis=axis))\n",
    "\n",
    "def approx_matmul(A, B, factor=1):\n",
    "    m, n = A.shape\n",
    "    _, p = B.shape\n",
    "    \n",
    "    A_col_norm, B_row_norm = norm(A, axis=0), norm(B, axis=1)\n",
    "    sum_norm = np.sum(A_col_norm * B_row_norm)\n",
    "    prob = np.array([A_col_norm[k] * B_row_norm[k] / sum_norm for k in range(n)])\n",
    "    np.testing.assert_almost_equal(np.sum(prob), 1, 5) # probability should sum to 1, within floating point error\n",
    "    c = int(n * factor)\n",
    "    i = np.flip(np.argsort(prob))[:c] # arg sort is ascending, so first reverse then slice\n",
    "    prob_i = prob[i]\n",
    "    A_i = A[:,i]\n",
    "    B_i = B[i,:]\n",
    "\n",
    "    result = np.zeros((m, p))\n",
    "    for t in range(c):\n",
    "        for i in range(m):\n",
    "            for j in range(p):\n",
    "                result[i, j] += (1 / prob_i[t]) * A_i[i, t] * B_i[t, j]\n",
    "    return (1 / c) * result"
   ]
  },
  {
   "cell_type": "code",
   "execution_count": 105,
   "metadata": {},
   "outputs": [
    {
     "data": {
      "text/plain": [
       "array([[20.69161515, 25.82614528, 22.3773683 , ..., 24.59434283,\n",
       "        20.86593701, 23.38318224],\n",
       "       [27.30487591, 31.58371029, 25.7934565 , ..., 28.63853213,\n",
       "        26.74889688, 26.87976057],\n",
       "       [26.48694919, 32.76078426, 26.77218696, ..., 27.8878618 ,\n",
       "        28.16856331, 26.69426382],\n",
       "       ...,\n",
       "       [24.46240435, 29.38974387, 25.45994266, ..., 24.85479098,\n",
       "        26.06522319, 26.53235013],\n",
       "       [22.1735354 , 25.83860564, 21.00780044, ..., 23.24765748,\n",
       "        21.41353967, 23.25660577],\n",
       "       [22.69847497, 27.78549586, 21.97999475, ..., 23.6478906 ,\n",
       "        23.56302511, 25.57350114]])"
      ]
     },
     "execution_count": 105,
     "metadata": {},
     "output_type": "execute_result"
    }
   ],
   "source": [
    "approx_matmul(A,B,factor=0.8)"
   ]
  },
  {
   "cell_type": "code",
   "execution_count": 109,
   "metadata": {},
   "outputs": [
    {
     "data": {
      "text/plain": [
       "1.991670784133436"
      ]
     },
     "execution_count": 109,
     "metadata": {},
     "output_type": "execute_result"
    }
   ],
   "source": [
    "# how did we do?\n",
    "mse = np.mean(((A@B) - approx_matmul(A,B,0.7)) ** 2)\n",
    "mse"
   ]
  }
 ],
 "metadata": {
  "kernelspec": {
   "display_name": ".venv",
   "language": "python",
   "name": "python3"
  },
  "language_info": {
   "codemirror_mode": {
    "name": "ipython",
    "version": 3
   },
   "file_extension": ".py",
   "mimetype": "text/x-python",
   "name": "python",
   "nbconvert_exporter": "python",
   "pygments_lexer": "ipython3",
   "version": "3.11.8"
  }
 },
 "nbformat": 4,
 "nbformat_minor": 2
}
